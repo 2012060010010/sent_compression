{
 "cells": [
  {
   "cell_type": "code",
   "execution_count": 1,
   "metadata": {},
   "outputs": [
    {
     "name": "stderr",
     "output_type": "stream",
     "text": [
      "E:\\Anaconda3\\lib\\site-packages\\gensim\\utils.py:862: UserWarning: detected Windows; aliasing chunkize to chunkize_serial\n",
      "  warnings.warn(\"detected Windows; aliasing chunkize to chunkize_serial\")\n"
     ]
    }
   ],
   "source": [
    "import gensim\n",
    "from gensim.models import Word2Vec"
   ]
  },
  {
   "cell_type": "code",
   "execution_count": 2,
   "metadata": {},
   "outputs": [],
   "source": [
    "from gensim.models.word2vec import LineSentence"
   ]
  },
  {
   "cell_type": "code",
   "execution_count": 3,
   "metadata": {},
   "outputs": [],
   "source": [
    "import pandas as pd\n",
    "import jieba"
   ]
  },
  {
   "cell_type": "code",
   "execution_count": 18,
   "metadata": {},
   "outputs": [],
   "source": [
    "# jieba.enable_parallel(4)"
   ]
  },
  {
   "cell_type": "code",
   "execution_count": 4,
   "metadata": {},
   "outputs": [],
   "source": [
    "from tqdm import tqdm\n",
    "import codecs"
   ]
  },
  {
   "cell_type": "code",
   "execution_count": 36,
   "metadata": {},
   "outputs": [],
   "source": [
    "model1=gensim.models.Word2Vec.load('w2v/60dim/Word60.model')"
   ]
  },
  {
   "cell_type": "code",
   "execution_count": 19,
   "metadata": {},
   "outputs": [],
   "source": [
    "word_list=set(model1.index2word)"
   ]
  },
  {
   "cell_type": "code",
   "execution_count": 7,
   "metadata": {},
   "outputs": [],
   "source": [
    "wordl=' '.join(word_list)"
   ]
  },
  {
   "cell_type": "code",
   "execution_count": 34,
   "metadata": {},
   "outputs": [],
   "source": [
    "words=['好用',\n",
    "'牙刷']"
   ]
  },
  {
   "cell_type": "code",
   "execution_count": 59,
   "metadata": {},
   "outputs": [
    {
     "name": "stdout",
     "output_type": "stream",
     "text": [
      "好用 [('好看', 0.8097008466720581), ('难看', 0.8007566332817078), ('费事', 0.785541296005249), ('难用', 0.7790309190750122), ('吃力', 0.773707389831543), ('费劲', 0.7710455656051636), ('划算', 0.7695222496986389), ('简便', 0.7568773031234741), ('糟', 0.7476701736450195), ('费力', 0.7476260662078857)]\n",
      "牙刷 [('隐形眼镜', 0.8156613707542419), ('矽胶', 0.8002278208732605), ('塑料', 0.7994314432144165), ('贴片', 0.7907568216323853), ('润滑剂', 0.7882571220397949), ('注射器', 0.7782927751541138), ('PVC', 0.7777488231658936), ('塑形', 0.7775583267211914), ('润滑', 0.7752867937088013), ('润滑油', 0.7740408182144165)]\n"
     ]
    }
   ],
   "source": [
    "for w in words:\n",
    "    if w in model.index2word:\n",
    "        vec2w=model.wv[w]\n",
    "        sim_w=model.most_similar(w)\n",
    "        print(w,sim_w)"
   ]
  },
  {
   "cell_type": "code",
   "execution_count": 50,
   "metadata": {},
   "outputs": [],
   "source": [
    "train=pd.read_excel('taiyi_train_compress.xls')"
   ]
  },
  {
   "cell_type": "code",
   "execution_count": 72,
   "metadata": {},
   "outputs": [
    {
     "data": {
      "text/html": [
       "<div>\n",
       "<table border=\"1\" class=\"dataframe\">\n",
       "  <thead>\n",
       "    <tr style=\"text-align: right;\">\n",
       "      <th></th>\n",
       "      <th>content</th>\n",
       "      <th>theme</th>\n",
       "      <th>sentiment</th>\n",
       "      <th>tokens</th>\n",
       "      <th>postags</th>\n",
       "      <th>is_not_found</th>\n",
       "      <th>orig_seg</th>\n",
       "      <th>labels</th>\n",
       "      <th>sent_compress</th>\n",
       "      <th>sent_label</th>\n",
       "      <th>sent_split</th>\n",
       "      <th>polar</th>\n",
       "    </tr>\n",
       "  </thead>\n",
       "  <tbody>\n",
       "    <tr>\n",
       "      <th>0</th>\n",
       "      <td>收到了，太实惠了，买了一大箱，以后继续购买，送货速度快服务也好</td>\n",
       "      <td>NULL;送货速度;服务;</td>\n",
       "      <td>实惠;快;也好;</td>\n",
       "      <td>[['收到', '了'], ['太', '实惠', '了'], ['买', '了', '一'...</td>\n",
       "      <td>[['v', 'u'], ['d', 'a', 'u'], ['v', 'u', 'm', ...</td>\n",
       "      <td>False</td>\n",
       "      <td>[[('收到', 'v'), ('了', 'u')], [('太', 'd'), ('实惠'...</td>\n",
       "      <td>[[('收到', 'v', 'Y'), ('了', 'u', 'Y')], [('太', '...</td>\n",
       "      <td>[[], ['实惠'], [], [], ['送货速度', '快服务', '也好']]</td>\n",
       "      <td>[[['Y', 'Y']], [['Y', 'N', 'Y']], [['Y', 'Y', ...</td>\n",
       "      <td>收到\\t了\\t，\\t太\\t实惠\\t了\\t，\\t买\\t了\\t一大\\t箱\\t，\\t以后\\t继续\\...</td>\n",
       "      <td>1;1;1;</td>\n",
       "    </tr>\n",
       "    <tr>\n",
       "      <th>1</th>\n",
       "      <td>热水器加热时间太长，安装费太贵，预留太阳能口摆设，根本用不到，没有水位指示器，加满热水的指示...</td>\n",
       "      <td>加热时间;安装费;用户;</td>\n",
       "      <td>太长;太贵;不方便;</td>\n",
       "      <td>[['热水器', '加热时间', '太长'], ['安装费', '太贵'], ['预留', ...</td>\n",
       "      <td>[['n', 'v', 'n'], ['n', 'a'], ['v', 'n', 'n'],...</td>\n",
       "      <td>False</td>\n",
       "      <td>[[('热水器', 'n'), ('加热时间', 'v'), ('太长', 'n')], [...</td>\n",
       "      <td>[[('热水器', 'n', 'Y'), ('加热时间', 'v', 'N'), ('太长'...</td>\n",
       "      <td>[['太长'], ['安装费', '太贵'], [], [], [], [], ['不方便'...</td>\n",
       "      <td>[[['Y', 'Y', 'N']], [['N', 'N']], [['Y', 'Y', ...</td>\n",
       "      <td>热水器\\t加热\\t时间\\t太\\t长\\t，\\t安装费\\t太贵\\t，\\t预留\\t太阳能\\t口\\t...</td>\n",
       "      <td>-1;-1;-1;</td>\n",
       "    </tr>\n",
       "  </tbody>\n",
       "</table>\n",
       "</div>"
      ],
      "text/plain": [
       "                                             content          theme  \\\n",
       "0                    收到了，太实惠了，买了一大箱，以后继续购买，送货速度快服务也好  NULL;送货速度;服务;   \n",
       "1  热水器加热时间太长，安装费太贵，预留太阳能口摆设，根本用不到，没有水位指示器，加满热水的指示...   加热时间;安装费;用户;   \n",
       "\n",
       "    sentiment                                             tokens  \\\n",
       "0    实惠;快;也好;  [['收到', '了'], ['太', '实惠', '了'], ['买', '了', '一'...   \n",
       "1  太长;太贵;不方便;  [['热水器', '加热时间', '太长'], ['安装费', '太贵'], ['预留', ...   \n",
       "\n",
       "                                             postags is_not_found  \\\n",
       "0  [['v', 'u'], ['d', 'a', 'u'], ['v', 'u', 'm', ...        False   \n",
       "1  [['n', 'v', 'n'], ['n', 'a'], ['v', 'n', 'n'],...        False   \n",
       "\n",
       "                                            orig_seg  \\\n",
       "0  [[('收到', 'v'), ('了', 'u')], [('太', 'd'), ('实惠'...   \n",
       "1  [[('热水器', 'n'), ('加热时间', 'v'), ('太长', 'n')], [...   \n",
       "\n",
       "                                              labels  \\\n",
       "0  [[('收到', 'v', 'Y'), ('了', 'u', 'Y')], [('太', '...   \n",
       "1  [[('热水器', 'n', 'Y'), ('加热时间', 'v', 'N'), ('太长'...   \n",
       "\n",
       "                                       sent_compress  \\\n",
       "0        [[], ['实惠'], [], [], ['送货速度', '快服务', '也好']]   \n",
       "1  [['太长'], ['安装费', '太贵'], [], [], [], [], ['不方便'...   \n",
       "\n",
       "                                          sent_label  \\\n",
       "0  [[['Y', 'Y']], [['Y', 'N', 'Y']], [['Y', 'Y', ...   \n",
       "1  [[['Y', 'Y', 'N']], [['N', 'N']], [['Y', 'Y', ...   \n",
       "\n",
       "                                          sent_split      polar  \n",
       "0  收到\\t了\\t，\\t太\\t实惠\\t了\\t，\\t买\\t了\\t一大\\t箱\\t，\\t以后\\t继续\\...     1;1;1;  \n",
       "1  热水器\\t加热\\t时间\\t太\\t长\\t，\\t安装费\\t太贵\\t，\\t预留\\t太阳能\\t口\\t...  -1;-1;-1;  "
      ]
     },
     "execution_count": 72,
     "metadata": {},
     "output_type": "execute_result"
    }
   ],
   "source": [
    "train[:2]"
   ]
  },
  {
   "cell_type": "code",
   "execution_count": 64,
   "metadata": {},
   "outputs": [],
   "source": [
    "tt=pd.read_excel('train.xlsx')"
   ]
  },
  {
   "cell_type": "code",
   "execution_count": 70,
   "metadata": {},
   "outputs": [],
   "source": [
    "# tt.iloc[:,-1]"
   ]
  },
  {
   "cell_type": "code",
   "execution_count": null,
   "metadata": {},
   "outputs": [],
   "source": [
    "train_content=train['content']\n",
    "sent_list=list(train_content)"
   ]
  },
  {
   "cell_type": "code",
   "execution_count": 57,
   "metadata": {},
   "outputs": [
    {
     "name": "stderr",
     "output_type": "stream",
     "text": [
      "100%|██████████████████████████████████| 20000/20000 [00:05<00:00, 3627.58it/s]\n"
     ]
    }
   ],
   "source": [
    "sent_num=len(sent_list)\n",
    "sentsplit_list=[]\n",
    "for ind in tqdm(range(sent_num)):\n",
    "    sent_split=jieba.lcut(sent_list[ind])\n",
    "    sent_split=[w for w in sent_split if w in word_list]\n",
    "    sentsplit_list.append('\\t'.join(sent_split))\n",
    "sentsplit_list.__len__()\n",
    "train['sent_split']=sentsplit_list"
   ]
  },
  {
   "cell_type": "code",
   "execution_count": 71,
   "metadata": {},
   "outputs": [],
   "source": [
    "train['polar']=tt.iloc[:,-1]"
   ]
  },
  {
   "cell_type": "code",
   "execution_count": 74,
   "metadata": {},
   "outputs": [],
   "source": [
    "train_set=train[['content','sent_split','theme','sentiment','polar']]\n",
    "train_set.to_excel('train_data_set.xls','w',encoding='utf-8')"
   ]
  },
  {
   "cell_type": "code",
   "execution_count": 91,
   "metadata": {},
   "outputs": [
    {
     "data": {
      "text/plain": [
       "3031"
      ]
     },
     "execution_count": 91,
     "metadata": {},
     "output_type": "execute_result"
    }
   ],
   "source": [
    "senti_polar={}\n",
    "s=list(train['sentiment'])\n",
    "p=list(train['polar'])\n",
    "for ind in zip(s,p):\n",
    "    s_tmp=str(ind[0]).split(';')[:-1]\n",
    "    p_tmp=str(ind[1]).split(';')[:-1]\n",
    "    if len(s_tmp)>0:\n",
    "        for k,v in zip(s_tmp,p_tmp):\n",
    "#             print(k,v)\n",
    "            try:\n",
    "                senti_polar[k].append(v)\n",
    "            except:\n",
    "                senti_polar[k]=[v]\n",
    "#     break\n",
    "senti_polar.__len__()            "
   ]
  },
  {
   "cell_type": "code",
   "execution_count": 86,
   "metadata": {},
   "outputs": [],
   "source": [
    "theme=set(theme)\n",
    "# theme.remove('NULL')"
   ]
  },
  {
   "cell_type": "code",
   "execution_count": 97,
   "metadata": {},
   "outputs": [],
   "source": [
    "with codecs.open('sentiment_polar.txt','w',encoding='utf-8') as f:\n",
    "    sp=[(k,list(set(v))) for k,v in senti_polar.items()]\n",
    "    for it in sp:\n",
    "        f.write(it[0]+'\\t'+it[1][0]+'\\n')"
   ]
  },
  {
   "cell_type": "code",
   "execution_count": null,
   "metadata": {},
   "outputs": [],
   "source": []
  },
  {
   "cell_type": "code",
   "execution_count": 9,
   "metadata": {},
   "outputs": [],
   "source": [
    "test=pd.read_excel('taiyi_test_compress.xls')\n",
    "test_content=test['content']"
   ]
  },
  {
   "cell_type": "code",
   "execution_count": 10,
   "metadata": {},
   "outputs": [],
   "source": [
    "sent_list=list(train_content)\n",
    "sent_list.extend(list(test_content))"
   ]
  },
  {
   "cell_type": "code",
   "execution_count": 11,
   "metadata": {},
   "outputs": [],
   "source": [
    "jd_content=pd.read_excel('京东商品评价采集.xlsx')\n",
    "\n",
    "with codecs.open('review_phone_jd.txt',encoding='utf-8') as f:\n",
    "    cnt=0\n",
    "    jd_review=[]\n",
    "    jd_labels=[]\n",
    "    for l in f:\n",
    "        cnt+=1\n",
    "        item=l.strip().split('\\t')\n",
    "        if item[0]=='心\\u3000\\u3000得' and len(item)==2:\n",
    "            jd_review.append(item[1])\n",
    "        if item[0]=='标\\u3000\\u3000签' and len(item)==2:\n",
    "            jd_labels.append(item[1])\n",
    "#         if cnt>40:\n",
    "#             break"
   ]
  },
  {
   "cell_type": "code",
   "execution_count": 12,
   "metadata": {},
   "outputs": [],
   "source": [
    "sent_list.extend(list(jd_content['评价']))"
   ]
  },
  {
   "cell_type": "code",
   "execution_count": 13,
   "metadata": {},
   "outputs": [],
   "source": [
    "sent_list.extend(jd_review)"
   ]
  },
  {
   "cell_type": "code",
   "execution_count": 14,
   "metadata": {},
   "outputs": [],
   "source": [
    "# word_list=set(model.index2word)\n",
    "sent_list=list(set(sent_list))"
   ]
  },
  {
   "cell_type": "code",
   "execution_count": 15,
   "metadata": {},
   "outputs": [
    {
     "data": {
      "text/plain": [
       "71912"
      ]
     },
     "execution_count": 15,
     "metadata": {},
     "output_type": "execute_result"
    }
   ],
   "source": [
    "sent_list.__len__()"
   ]
  },
  {
   "cell_type": "code",
   "execution_count": 20,
   "metadata": {
    "scrolled": true
   },
   "outputs": [
    {
     "name": "stderr",
     "output_type": "stream",
     "text": [
      "\n",
      "  0%|                                                | 0/71912 [00:00<?, ?it/s]\n",
      "  1%|▏                                   | 363/71912 [00:00<00:19, 3629.80it/s]\n",
      "  1%|▍                                   | 759/71912 [00:00<00:19, 3722.86it/s]\n",
      "  1%|▍                                  | 1019/71912 [00:00<00:21, 3295.78it/s]\n",
      "  2%|▋                                  | 1404/71912 [00:00<00:20, 3444.48it/s]\n",
      "  2%|▊                                  | 1752/71912 [00:00<00:20, 3455.00it/s]\n",
      "  3%|█                                  | 2146/71912 [00:00<00:19, 3587.43it/s]\n",
      "  3%|█▏                                 | 2500/71912 [00:00<00:19, 3573.00it/s]\n",
      "  4%|█▍                                 | 2896/71912 [00:00<00:18, 3680.86it/s]\n",
      "  5%|█▌                                 | 3274/71912 [00:00<00:18, 3709.99it/s]\n",
      "  5%|█▊                                 | 3633/71912 [00:01<00:18, 3650.68it/s]\n",
      "  6%|█▉                                 | 4026/71912 [00:01<00:18, 3730.16it/s]\n",
      "  6%|██▏                                | 4394/71912 [00:01<00:18, 3659.49it/s]\n",
      "  7%|██▎                                | 4794/71912 [00:01<00:17, 3755.33it/s]\n",
      "  7%|██▌                                | 5176/71912 [00:01<00:17, 3774.44it/s]\n",
      "  8%|██▋                                | 5553/71912 [00:01<00:17, 3717.23it/s]\n",
      "  8%|██▉                                | 5925/71912 [00:01<00:18, 3578.50it/s]\n",
      "  9%|███                                | 6303/71912 [00:01<00:18, 3636.60it/s]\n",
      "  9%|███▎                               | 6706/71912 [00:01<00:17, 3746.25it/s]\n",
      " 10%|███▍                               | 7082/71912 [00:01<00:18, 3599.50it/s]\n",
      " 10%|███▋                               | 7501/71912 [00:02<00:17, 3758.35it/s]\n",
      " 11%|███▊                               | 7881/71912 [00:02<00:17, 3748.36it/s]\n",
      " 12%|████                               | 8275/71912 [00:02<00:16, 3803.81it/s]\n",
      " 12%|████▏                              | 8658/71912 [00:02<00:16, 3777.72it/s]\n",
      " 13%|████▍                              | 9038/71912 [00:02<00:16, 3761.84it/s]\n",
      " 13%|████▌                              | 9416/71912 [00:02<00:17, 3636.72it/s]\n",
      " 14%|████▊                              | 9782/71912 [00:02<00:17, 3477.43it/s]\n",
      " 14%|████▊                             | 10152/71912 [00:02<00:17, 3541.28it/s]\n",
      " 15%|████▉                             | 10509/71912 [00:02<00:17, 3539.23it/s]\n",
      " 15%|█████▏                            | 10937/71912 [00:02<00:16, 3733.01it/s]\n",
      " 16%|█████▎                            | 11315/71912 [00:03<00:16, 3702.87it/s]\n",
      " 16%|█████▌                            | 11694/71912 [00:03<00:16, 3728.52it/s]\n",
      " 17%|█████▋                            | 12069/71912 [00:03<00:16, 3712.69it/s]\n",
      " 17%|█████▉                            | 12442/71912 [00:03<00:16, 3578.68it/s]\n",
      " 18%|██████                            | 12802/71912 [00:03<00:16, 3584.99it/s]\n",
      " 18%|██████▏                           | 13192/71912 [00:03<00:15, 3673.96it/s]\n",
      " 19%|██████▍                           | 13573/71912 [00:03<00:15, 3713.68it/s]\n",
      " 19%|██████▌                           | 13946/71912 [00:03<00:16, 3558.83it/s]\n",
      " 20%|██████▊                           | 14311/71912 [00:03<00:16, 3585.64it/s]\n",
      " 20%|██████▉                           | 14672/71912 [00:04<00:16, 3571.53it/s]\n",
      " 21%|███████                           | 15038/71912 [00:04<00:15, 3597.55it/s]\n",
      " 21%|███████▎                          | 15399/71912 [00:04<00:16, 3496.57it/s]\n",
      " 22%|███████▍                          | 15766/71912 [00:04<00:15, 3546.79it/s]\n",
      " 22%|███████▋                          | 16159/71912 [00:04<00:15, 3653.61it/s]\n",
      " 23%|███████▊                          | 16564/71912 [00:04<00:14, 3764.08it/s]\n",
      " 24%|████████                          | 16943/71912 [00:04<00:14, 3694.54it/s]\n",
      " 24%|████████▏                         | 17325/71912 [00:04<00:14, 3731.24it/s]\n",
      " 25%|████████▎                         | 17700/71912 [00:04<00:14, 3692.63it/s]\n",
      " 25%|████████▌                         | 18071/71912 [00:04<00:14, 3675.77it/s]\n",
      " 26%|████████▋                         | 18456/71912 [00:05<00:14, 3726.30it/s]\n",
      " 26%|████████▉                         | 18861/71912 [00:05<00:13, 3817.78it/s]\n",
      " 27%|█████████                         | 19244/71912 [00:05<00:14, 3742.94it/s]\n",
      " 27%|█████████▎                        | 19620/71912 [00:05<00:14, 3506.78it/s]\n",
      " 28%|█████████▍                        | 19975/71912 [00:05<00:14, 3519.57it/s]\n",
      " 28%|█████████▋                        | 20359/71912 [00:05<00:14, 3609.88it/s]\n",
      " 29%|█████████▊                        | 20738/71912 [00:05<00:13, 3662.03it/s]\n",
      " 29%|█████████▉                        | 21115/71912 [00:05<00:13, 3693.71it/s]\n",
      "100%|██████████████████████████████████| 71912/71912 [00:19<00:00, 3758.71it/s]\n"
     ]
    }
   ],
   "source": [
    "with codecs.open('taiyi_content.txt','w',encoding='utf-8') as f:\n",
    "    sent_num=len(sent_list)\n",
    "    for ind in tqdm(range(sent_num)):\n",
    "        sent_split=jieba.lcut(sent_list[ind])\n",
    "        sent_split=[w for w in sent_split if w in word_list]\n",
    "        f.write(' '.join(sent_split)+'\\n')\n",
    "    f.write(wordl)\n"
   ]
  },
  {
   "cell_type": "code",
   "execution_count": 35,
   "metadata": {},
   "outputs": [],
   "source": [
    "sentences=LineSentence('taiyi_content.txt')"
   ]
  },
  {
   "cell_type": "code",
   "execution_count": 34,
   "metadata": {},
   "outputs": [],
   "source": [
    "model = gensim.models.Word2Vec(min_count=3,max_vocab_size=60000, size=60, sample=1e-3, negative=5, workers=3)\n",
    "model.build_vocab(sentences)"
   ]
  },
  {
   "cell_type": "code",
   "execution_count": 37,
   "metadata": {},
   "outputs": [],
   "source": [
    "model.reset_from(model1)"
   ]
  },
  {
   "cell_type": "code",
   "execution_count": 38,
   "metadata": {},
   "outputs": [
    {
     "data": {
      "text/plain": [
       "3812799"
      ]
     },
     "execution_count": 38,
     "metadata": {},
     "output_type": "execute_result"
    }
   ],
   "source": [
    "model"
   ]
  },
  {
   "cell_type": "code",
   "execution_count": 39,
   "metadata": {},
   "outputs": [
    {
     "data": {
      "text/plain": [
       "11504554"
      ]
     },
     "execution_count": 39,
     "metadata": {},
     "output_type": "execute_result"
    }
   ],
   "source": [
    "model.train(sentences,epochs=10,total_words=60000,start_alpha=0.025, end_alpha=0.015)"
   ]
  },
  {
   "cell_type": "code",
   "execution_count": 49,
   "metadata": {},
   "outputs": [
    {
     "data": {
      "text/plain": [
       "[('机型', 0.9056902527809143),\n",
       " ('4s', 0.8873096704483032),\n",
       " ('4S', 0.883436918258667),\n",
       " ('经典', 0.8815880417823792),\n",
       " ('多言', 0.858572781085968),\n",
       " ('apple', 0.8557353019714355),\n",
       " ('金典', 0.848833441734314),\n",
       " ('经典之作', 0.8468377590179443),\n",
       " ('神器', 0.8325103521347046),\n",
       " ('处理器', 0.8314971923828125)]"
      ]
     },
     "execution_count": 49,
     "metadata": {},
     "output_type": "execute_result"
    }
   ],
   "source": [
    "model.most_similar('iphone')"
   ]
  },
  {
   "cell_type": "code",
   "execution_count": 44,
   "metadata": {},
   "outputs": [],
   "source": [
    "model.save('w2v/train_model/word2vec1.model')"
   ]
  },
  {
   "cell_type": "code",
   "execution_count": 149,
   "metadata": {},
   "outputs": [],
   "source": [
    "model=gensim.models.Word2Vec.load('w2v/train_model/word2vec.model')"
   ]
  },
  {
   "cell_type": "code",
   "execution_count": 45,
   "metadata": {},
   "outputs": [
    {
     "data": {
      "text/plain": [
       "60"
      ]
     },
     "execution_count": 45,
     "metadata": {},
     "output_type": "execute_result"
    }
   ],
   "source": []
  },
  {
   "cell_type": "code",
   "execution_count": 46,
   "metadata": {},
   "outputs": [
    {
     "data": {
      "text/plain": [
       "3812799"
      ]
     },
     "execution_count": 46,
     "metadata": {},
     "output_type": "execute_result"
    }
   ],
   "source": [
    "model.corpus_count"
   ]
  },
  {
   "cell_type": "code",
   "execution_count": 115,
   "metadata": {},
   "outputs": [],
   "source": [
    "theme_senti=[]\n",
    "for it in jd_labels:\n",
    "    theme_senti.extend(it.split())\n",
    "theme_senti_set=list(set(theme_senti))"
   ]
  },
  {
   "cell_type": "code",
   "execution_count": 137,
   "metadata": {},
   "outputs": [],
   "source": [
    "import jieba.posseg as pseg"
   ]
  },
  {
   "cell_type": "code",
   "execution_count": 141,
   "metadata": {},
   "outputs": [],
   "source": [
    "t_s_pair=[]\n",
    "for it in theme_senti_set:\n",
    "    if len(it)>1:\n",
    "        cont= jieba.lcut(it)\n",
    "        if len(cont)>1:\n",
    "            t_s_pair.append(cont)"
   ]
  },
  {
   "cell_type": "code",
   "execution_count": 143,
   "metadata": {},
   "outputs": [],
   "source": [
    "with codecs.open('themeVSsenti.txt','w',encoding='utf-8') as f:\n",
    "    for it in t_s_pair:\n",
    "        f.write('\\t'.join(it)+'\\n')"
   ]
  },
  {
   "cell_type": "code",
   "execution_count": null,
   "metadata": {},
   "outputs": [],
   "source": []
  }
 ],
 "metadata": {
  "kernelspec": {
   "display_name": "Python 3",
   "language": "python",
   "name": "python3"
  },
  "language_info": {
   "codemirror_mode": {
    "name": "ipython",
    "version": 3
   },
   "file_extension": ".py",
   "mimetype": "text/x-python",
   "name": "python",
   "nbconvert_exporter": "python",
   "pygments_lexer": "ipython3",
   "version": "3.5.2"
  }
 },
 "nbformat": 4,
 "nbformat_minor": 1
}
